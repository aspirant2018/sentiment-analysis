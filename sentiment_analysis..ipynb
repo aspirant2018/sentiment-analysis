{
 "cells": [
  {
   "cell_type": "markdown",
   "id": "ae8faed2",
   "metadata": {},
   "source": [
    "# Sentiment analysis"
   ]
  },
  {
   "cell_type": "code",
   "execution_count": null,
   "id": "86aa229c",
   "metadata": {},
   "outputs": [],
   "source": [
    "# Dependencies for the project\n",
    "!pip install --upgrade datasets fsspec"
   ]
  },
  {
   "cell_type": "code",
   "execution_count": 3,
   "id": "92de68eb",
   "metadata": {},
   "outputs": [
    {
     "name": "stderr",
     "output_type": "stream",
     "text": [
      "/home/raymond/Projects/sentiments_analysis/.venv/lib/python3.12/site-packages/tqdm/auto.py:21: TqdmWarning: IProgress not found. Please update jupyter and ipywidgets. See https://ipywidgets.readthedocs.io/en/stable/user_install.html\n",
      "  from .autonotebook import tqdm as notebook_tqdm\n",
      "Generating train split: 100%|██████████| 3600000/3600000 [00:29<00:00, 120803.48 examples/s]\n",
      "Generating test split: 100%|██████████| 400000/400000 [00:02<00:00, 150260.00 examples/s]\n"
     ]
    }
   ],
   "source": [
    "from datasets import load_dataset\n",
    "dataset = load_dataset('amazon_polarity')"
   ]
  },
  {
   "cell_type": "code",
   "execution_count": null,
   "id": "de681a52",
   "metadata": {},
   "outputs": [],
   "source": [
    "# Dataset structure\n",
    "dataset"
   ]
  }
 ],
 "metadata": {
  "kernelspec": {
   "display_name": ".venv",
   "language": "python",
   "name": "python3"
  },
  "language_info": {
   "codemirror_mode": {
    "name": "ipython",
    "version": 3
   },
   "file_extension": ".py",
   "mimetype": "text/x-python",
   "name": "python",
   "nbconvert_exporter": "python",
   "pygments_lexer": "ipython3",
   "version": "3.12.3"
  }
 },
 "nbformat": 4,
 "nbformat_minor": 5
}
